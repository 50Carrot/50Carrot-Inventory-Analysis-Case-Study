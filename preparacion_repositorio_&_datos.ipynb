{
 "cells": [
  {
   "cell_type": "code",
   "execution_count": 3,
   "metadata": {},
   "outputs": [
    {
     "name": "stdout",
     "output_type": "stream",
     "text": [
      "Requirement already satisfied: kagglehub in c:\\users\\usuario\\appdata\\local\\programs\\python\\python312\\lib\\site-packages (0.3.1)Note: you may need to restart the kernel to use updated packages.\n",
      "\n",
      "Requirement already satisfied: packaging in c:\\users\\usuario\\appdata\\roaming\\python\\python312\\site-packages (from kagglehub) (24.1)\n",
      "Requirement already satisfied: requests in c:\\users\\usuario\\appdata\\local\\programs\\python\\python312\\lib\\site-packages (from kagglehub) (2.32.3)\n",
      "Requirement already satisfied: tqdm in c:\\users\\usuario\\appdata\\local\\programs\\python\\python312\\lib\\site-packages (from kagglehub) (4.66.5)\n",
      "Requirement already satisfied: charset-normalizer<4,>=2 in c:\\users\\usuario\\appdata\\local\\programs\\python\\python312\\lib\\site-packages (from requests->kagglehub) (3.3.2)\n",
      "Requirement already satisfied: idna<4,>=2.5 in c:\\users\\usuario\\appdata\\local\\programs\\python\\python312\\lib\\site-packages (from requests->kagglehub) (3.10)\n",
      "Requirement already satisfied: urllib3<3,>=1.21.1 in c:\\users\\usuario\\appdata\\local\\programs\\python\\python312\\lib\\site-packages (from requests->kagglehub) (2.2.3)\n",
      "Requirement already satisfied: certifi>=2017.4.17 in c:\\users\\usuario\\appdata\\local\\programs\\python\\python312\\lib\\site-packages (from requests->kagglehub) (2024.8.30)\n",
      "Requirement already satisfied: colorama in c:\\users\\usuario\\appdata\\roaming\\python\\python312\\site-packages (from tqdm->kagglehub) (0.4.6)\n"
     ]
    }
   ],
   "source": [
    "pip install kagglehub"
   ]
  },
  {
   "cell_type": "code",
   "execution_count": 4,
   "metadata": {},
   "outputs": [
    {
     "name": "stdout",
     "output_type": "stream",
     "text": [
      "Note: you may need to restart the kernel to use updated packages.\n"
     ]
    },
    {
     "name": "stderr",
     "output_type": "stream",
     "text": [
      "WARNING: Package(s) not found: kaggle\n"
     ]
    }
   ],
   "source": [
    "pip show kaggle\n"
   ]
  },
  {
   "cell_type": "code",
   "execution_count": 5,
   "metadata": {},
   "outputs": [
    {
     "name": "stdout",
     "output_type": "stream",
     "text": [
      "Path to dataset files: C:\\Users\\usuario\\.cache\\kagglehub\\datasets\\bhanupratapbiswas\\inventory-analysis-case-study\\versions\\1\n"
     ]
    }
   ],
   "source": [
    "\"\"\"import kagglehub\n",
    "\n",
    "# Descargar la versión más reciente del dataset\n",
    "path = kagglehub.dataset_download(\"bhanupratapbiswas/inventory-analysis-case-study\")\n",
    "\n",
    "print(\"Path to dataset files:\", path)\"\"\"\n"
   ]
  },
  {
   "cell_type": "code",
   "execution_count": null,
   "metadata": {},
   "outputs": [],
   "source": [
    "#conectar el repositorio\n",
    "\n",
    "\"\"\"\n",
    "1. Abre la terminal integrada (Ctrl + `).\n",
    "\n",
    "Comandos\n",
    "2. git clone https://github.com/50Carrot/50Carrot-Inventory-Analysis-Case-Study.git\n",
    "Navega al directorio del repositorio clonado:\n",
    "3. cd 50Carrot-Inventory-Analysis-Case-Study.git\n",
    "\n",
    "Agregar los Archivos Descargados:\n",
    "4. Copia los archivos descargados de Kaggle en el directorio de tu repositorio local.\n",
    "\n",
    "Comandos\n",
    "Añade los archivos al índice de Git\n",
    "5. git add .\n",
    "\n",
    "Realiza un commit con un mensaje descriptivo\n",
    "6. git commit -m \" \"\n",
    "\n",
    "Subir Cambios\n",
    "7. git push origin main\n",
    "(Si usas master, reemplaza main por master.)\n",
    "\n",
    "\n",
    "\"\"\""
   ]
  }
 ],
 "metadata": {
  "kernelspec": {
   "display_name": "Python 3",
   "language": "python",
   "name": "python3"
  },
  "language_info": {
   "codemirror_mode": {
    "name": "ipython",
    "version": 3
   },
   "file_extension": ".py",
   "mimetype": "text/x-python",
   "name": "python",
   "nbconvert_exporter": "python",
   "pygments_lexer": "ipython3",
   "version": "3.12.6"
  }
 },
 "nbformat": 4,
 "nbformat_minor": 2
}

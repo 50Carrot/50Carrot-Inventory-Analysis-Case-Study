{
 "cells": [
  {
   "cell_type": "code",
   "execution_count": 1,
   "metadata": {},
   "outputs": [],
   "source": [
    "import os\n",
    "import pandas as pd"
   ]
  },
  {
   "cell_type": "code",
   "execution_count": 2,
   "metadata": {},
   "outputs": [
    {
     "name": "stdout",
     "output_type": "stream",
     "text": [
      "Cargando 2017PurchasePricesDec.csv...\n",
      "Cargando BegInvFINAL12312016.csv...\n",
      "Cargando EndInvFINAL12312016.csv...\n",
      "Cargando InvoicePurchases12312016.csv...\n",
      "Cargando PurchasesFINAL12312016.csv...\n",
      "Cargando SalesFINAL12312016.csv...\n",
      "   Brand                  Description  Price   Size Volume  Classification  \\\n",
      "0   58.0  Gekkeikan Black & Gold Sake  12.99  750mL    750             1.0   \n",
      "1   62.0     Herradura Silver Tequila  36.99  750mL    750             1.0   \n",
      "2   63.0   Herradura Reposado Tequila  38.99  750mL    750             1.0   \n",
      "3   72.0         No. 3 London Dry Gin  34.99  750mL    750             1.0   \n",
      "4   75.0    Three Olives Tomato Vodka  14.99  750mL    750             1.0   \n",
      "\n",
      "   PurchasePrice  VendorNumber                   VendorName InventoryId  ...  \\\n",
      "0           9.28        8320.0  SHAW ROSS INT L IMP LTD             NaN  ...   \n",
      "1          28.67        1128.0  BROWN-FORMAN CORP                   NaN  ...   \n",
      "2          30.46        1128.0  BROWN-FORMAN CORP                   NaN  ...   \n",
      "3          26.11        9165.0  ULTRA BEVERAGE COMPANY LLP          NaN  ...   \n",
      "4          10.94        7245.0  PROXIMO SPIRITS INC.                NaN  ...   \n",
      "\n",
      "   Dollars Freight  Approval ReceivingDate SalesQuantity SalesDollars  \\\n",
      "0      NaN     NaN       NaN           NaN           NaN          NaN   \n",
      "1      NaN     NaN       NaN           NaN           NaN          NaN   \n",
      "2      NaN     NaN       NaN           NaN           NaN          NaN   \n",
      "3      NaN     NaN       NaN           NaN           NaN          NaN   \n",
      "4      NaN     NaN       NaN           NaN           NaN          NaN   \n",
      "\n",
      "   SalesPrice SalesDate ExciseTax  VendorNo  \n",
      "0         NaN       NaN       NaN       NaN  \n",
      "1         NaN       NaN       NaN       NaN  \n",
      "2         NaN       NaN       NaN       NaN  \n",
      "3         NaN       NaN       NaN       NaN  \n",
      "4         NaN       NaN       NaN       NaN  \n",
      "\n",
      "[5 rows x 30 columns]\n"
     ]
    }
   ],
   "source": [
    "\"\"\"1. Cargar los datos\"\"\"\n",
    "\n",
    "# Especificar la ruta de la carpeta que contiene los archivos CSV\n",
    "folder_path = r\"C:/Users/usuario/Desktop/dataset\"\n",
    "\n",
    "# Crear una lista para almacenar cada DataFrame\n",
    "dfs = []\n",
    "\n",
    "# Iterar sobre los archivos en la carpeta\n",
    "for file_name in os.listdir(folder_path):\n",
    "    if file_name.endswith('.csv'):  # Verificar si el archivo es un CSV\n",
    "        file_path = os.path.join(folder_path, file_name)\n",
    "        print(f\"Cargando {file_name}...\")\n",
    "        # Cargar el archivo CSV en un DataFrame\n",
    "        df = pd.read_csv(file_path)\n",
    "        # Añadir el DataFrame a la lista\n",
    "        dfs.append(df)\n",
    "\n",
    "# Combinar todos los DataFrames en uno solo\n",
    "combined_df = pd.concat(dfs, ignore_index=True)\n",
    "\n",
    "# Mostrar las primeras filas del DataFrame combinado\n",
    "print(combined_df.head())\n"
   ]
  },
  {
   "cell_type": "code",
   "execution_count": 3,
   "metadata": {},
   "outputs": [
    {
     "name": "stdout",
     "output_type": "stream",
     "text": [
      "<class 'pandas.core.frame.DataFrame'>\n",
      "RangeIndex: 1048575 entries, 0 to 1048574\n",
      "Data columns (total 14 columns):\n",
      " #   Column          Non-Null Count    Dtype  \n",
      "---  ------          --------------    -----  \n",
      " 0   InventoryId     1048575 non-null  object \n",
      " 1   Store           1048575 non-null  int64  \n",
      " 2   Brand           1048575 non-null  int64  \n",
      " 3   Description     1048575 non-null  object \n",
      " 4   Size            1048575 non-null  object \n",
      " 5   SalesQuantity   1048575 non-null  int64  \n",
      " 6   SalesDollars    1048575 non-null  float64\n",
      " 7   SalesPrice      1048575 non-null  float64\n",
      " 8   SalesDate       1048575 non-null  object \n",
      " 9   Volume          1048575 non-null  int64  \n",
      " 10  Classification  1048575 non-null  int64  \n",
      " 11  ExciseTax       1048575 non-null  float64\n",
      " 12  VendorNo        1048575 non-null  int64  \n",
      " 13  VendorName      1048575 non-null  object \n",
      "dtypes: float64(3), int64(6), object(5)\n",
      "memory usage: 112.0+ MB\n",
      "None\n",
      "              Store         Brand  SalesQuantity  SalesDollars    SalesPrice  \\\n",
      "count  1.048575e+06  1.048575e+06   1.048575e+06  1.048575e+06  1.048575e+06   \n",
      "mean   4.008063e+01  1.216959e+04   2.337619e+00  3.160420e+01  1.543162e+01   \n",
      "std    2.435739e+01  1.241921e+04   3.511492e+00  6.570249e+01  1.404967e+01   \n",
      "min    1.000000e+00  5.800000e+01   1.000000e+00  4.900000e-01  4.900000e-01   \n",
      "25%    1.500000e+01  3.680000e+03   1.000000e+00  1.099000e+01  8.990000e+00   \n",
      "50%    3.900000e+01  6.296000e+03   1.000000e+00  1.799000e+01  1.299000e+01   \n",
      "75%    6.400000e+01  1.795400e+04   2.000000e+00  3.199000e+01  1.899000e+01   \n",
      "max    7.900000e+01  9.008900e+04   4.320000e+02  1.327997e+04  4.999990e+03   \n",
      "\n",
      "             Volume  Classification     ExciseTax      VendorNo  \n",
      "count  1.048575e+06    1.048575e+06  1.048575e+06  1.048575e+06  \n",
      "mean   9.500280e+02    1.416550e+00  1.326847e+00  6.995043e+03  \n",
      "std    7.142708e+02    4.929872e-01  3.407898e+00  8.426736e+03  \n",
      "min    5.000000e+01    1.000000e+00  1.000000e-02  2.000000e+00  \n",
      "25%    7.500000e+02    1.000000e+00  1.600000e-01  3.252000e+03  \n",
      "50%    7.500000e+02    1.000000e+00  6.800000e-01  4.425000e+03  \n",
      "75%    1.500000e+03    2.000000e+00  1.570000e+00  9.552000e+03  \n",
      "max    2.000000e+04    2.000000e+00  3.785200e+02  1.733570e+05  \n",
      "InventoryId       0\n",
      "Store             0\n",
      "Brand             0\n",
      "Description       0\n",
      "Size              0\n",
      "SalesQuantity     0\n",
      "SalesDollars      0\n",
      "SalesPrice        0\n",
      "SalesDate         0\n",
      "Volume            0\n",
      "Classification    0\n",
      "ExciseTax         0\n",
      "VendorNo          0\n",
      "VendorName        0\n",
      "dtype: int64\n"
     ]
    }
   ],
   "source": [
    "\"\"\"2. Entender los datos\n",
    "Revisa la estructura y las estadísticas del dataset:\"\"\"\n",
    "\n",
    "# Información general sobre las columnas, tipos de datos y valores nulos\n",
    "print(df.info())\n",
    "\n",
    "# Resumen estadístico de las variables numéricas\n",
    "print(df.describe())\n",
    "\n",
    "# Verificar si hay valores nulos\n",
    "print(df.isnull().sum())\n"
   ]
  },
  {
   "cell_type": "markdown",
   "metadata": {},
   "source": [
    "\"\"\"3. Análisis de tendencias y patrones\n",
    "Para visualizar tendencias a lo largo del tiempo, necesitas asegurarte de que haya una columna de fechas en tu dataset. Si es así, puedes agrupar los datos por períodos de tiempo para analizar la demanda.\"\"\""
   ]
  },
  {
   "cell_type": "code",
   "execution_count": 4,
   "metadata": {},
   "outputs": [
    {
     "name": "stdout",
     "output_type": "stream",
     "text": [
      "0\n",
      "['1/1/2016' '1/2/2016' '1/3/2016' '1/8/2016' '1/9/2016' '1/15/2016'\n",
      " '1/22/2016' '1/30/2016' '1/5/2016' '1/6/2016']\n"
     ]
    }
   ],
   "source": [
    "# Verificar si hay valores nulos o formatos incorrectos en la columna 'SalesDate'\n",
    "print(df['SalesDate'].isnull().sum())\n",
    "print(df['SalesDate'].unique()[:10])  # Muestra los primeros 10 valores únicos de SalesDate\n"
   ]
  },
  {
   "cell_type": "code",
   "execution_count": 5,
   "metadata": {},
   "outputs": [
    {
     "name": "stdout",
     "output_type": "stream",
     "text": [
      "(1048575, 14)\n"
     ]
    }
   ],
   "source": [
    "print(df.shape)\n"
   ]
  },
  {
   "cell_type": "code",
   "execution_count": 6,
   "metadata": {},
   "outputs": [
    {
     "name": "stdout",
     "output_type": "stream",
     "text": [
      "0\n"
     ]
    }
   ],
   "source": [
    "df['SalesDate'] = pd.to_datetime(df['SalesDate'], errors='coerce')\n",
    "\n",
    "# Verificar cuántos valores NaT hay después de la conversión\n",
    "print(df['SalesDate'].isnull().sum())\n"
   ]
  },
  {
   "cell_type": "code",
   "execution_count": 7,
   "metadata": {},
   "outputs": [],
   "source": [
    "df = df.dropna(subset=['SalesDate'])\n"
   ]
  },
  {
   "cell_type": "code",
   "execution_count": 9,
   "metadata": {},
   "outputs": [
    {
     "name": "stdout",
     "output_type": "stream",
     "text": [
      "              Store        Brand  SalesQuantity  SalesDollars   SalesPrice  \\\n",
      "SalesDate                                                                    \n",
      "2016-01    40740291  11522299834        2194959   29854027.92  14523308.66   \n",
      "2016-02     1287258   1238423052         256210    3285347.37   1657903.86   \n",
      "\n",
      "              Volume  Classification   ExciseTax    VendorNo  \n",
      "SalesDate                                                     \n",
      "2016-01    887865046         1333979  1233308.90  6549778591  \n",
      "2016-02    108310592          151380   157989.75   785048839  \n"
     ]
    }
   ],
   "source": [
    "# Convertir SalesDate a tipo datetime si aún no lo has hecho\n",
    "df['SalesDate'] = pd.to_datetime(df['SalesDate'], errors='coerce')\n",
    "\n",
    "# Agrupar por mes (M) y sumar solo las columnas numéricas\n",
    "df_grouped = df.groupby(df['SalesDate'].dt.to_period('M')).sum(numeric_only=True)\n",
    "\n",
    "# Mostrar los primeros 5 resultados del dataframe agrupado\n",
    "print(df_grouped.head())\n"
   ]
  },
  {
   "cell_type": "code",
   "execution_count": 10,
   "metadata": {},
   "outputs": [
    {
     "name": "stdout",
     "output_type": "stream",
     "text": [
      "InventoryId               object\n",
      "Store                      int64\n",
      "Brand                      int64\n",
      "Description               object\n",
      "Size                      object\n",
      "SalesQuantity              int64\n",
      "SalesDollars             float64\n",
      "SalesPrice               float64\n",
      "SalesDate         datetime64[ns]\n",
      "Volume                     int64\n",
      "Classification             int64\n",
      "ExciseTax                float64\n",
      "VendorNo                   int64\n",
      "VendorName                object\n",
      "dtype: object\n"
     ]
    }
   ],
   "source": [
    "print(df.dtypes)\n"
   ]
  },
  {
   "cell_type": "code",
   "execution_count": 12,
   "metadata": {},
   "outputs": [],
   "source": [
    "import matplotlib.pyplot as plt\n",
    "import seaborn as sns\n"
   ]
  },
  {
   "cell_type": "code",
   "execution_count": 15,
   "metadata": {},
   "outputs": [
    {
     "name": "stdout",
     "output_type": "stream",
     "text": [
      "Store               int64\n",
      "Brand               int64\n",
      "SalesQuantity       int64\n",
      "SalesDollars      float64\n",
      "SalesPrice        float64\n",
      "Volume              int64\n",
      "Classification      int64\n",
      "ExciseTax         float64\n",
      "VendorNo            int64\n",
      "dtype: object\n",
      "[2194959  256210]\n"
     ]
    }
   ],
   "source": [
    "# Verificar los tipos de datos\n",
    "print(df_grouped.dtypes)\n",
    "\n",
    "# Verificar valores únicos en la columna SalesQuantity\n",
    "print(df_grouped['SalesQuantity'].unique())\n"
   ]
  },
  {
   "cell_type": "code",
   "execution_count": 16,
   "metadata": {},
   "outputs": [],
   "source": [
    "# Asegúrate de que SalesQuantity sea de tipo numérico\n",
    "df_grouped['SalesQuantity'] = pd.to_numeric(df_grouped['SalesQuantity'], errors='coerce')\n"
   ]
  },
  {
   "cell_type": "code",
   "execution_count": 18,
   "metadata": {},
   "outputs": [
    {
     "name": "stdout",
     "output_type": "stream",
     "text": [
      "Store               int64\n",
      "Brand               int64\n",
      "SalesQuantity       int64\n",
      "SalesDollars      float64\n",
      "SalesPrice        float64\n",
      "Volume              int64\n",
      "Classification      int64\n",
      "ExciseTax         float64\n",
      "VendorNo            int64\n",
      "dtype: object\n",
      "              Store        Brand  SalesQuantity  SalesDollars   SalesPrice  \\\n",
      "SalesDate                                                                    \n",
      "2016-01    40740291  11522299834        2194959   29854027.92  14523308.66   \n",
      "2016-02     1287258   1238423052         256210    3285347.37   1657903.86   \n",
      "\n",
      "              Volume  Classification   ExciseTax    VendorNo  \n",
      "SalesDate                                                     \n",
      "2016-01    887865046         1333979  1233308.90  6549778591  \n",
      "2016-02    108310592          151380   157989.75   785048839  \n",
      "[2194959  256210]\n",
      "0\n"
     ]
    }
   ],
   "source": [
    "# Verificar los tipos de datos\n",
    "print(df_grouped.dtypes)\n",
    "\n",
    "# Mostrar las primeras filas del DataFrame\n",
    "print(df_grouped.head())\n",
    "\n",
    "# Verificar valores únicos en la columna SalesQuantity\n",
    "print(df_grouped['SalesQuantity'].unique())\n",
    "\n",
    "# Verificar si hay NaN en SalesQuantity\n",
    "print(df_grouped['SalesQuantity'].isnull().sum())\n"
   ]
  },
  {
   "cell_type": "code",
   "execution_count": 20,
   "metadata": {},
   "outputs": [
    {
     "ename": "TypeError",
     "evalue": "Passing PeriodDtype data is invalid. Use `data.to_timestamp()` instead",
     "output_type": "error",
     "traceback": [
      "\u001b[1;31m---------------------------------------------------------------------------\u001b[0m",
      "\u001b[1;31mTypeError\u001b[0m                                 Traceback (most recent call last)",
      "Cell \u001b[1;32mIn[20], line 2\u001b[0m\n\u001b[0;32m      1\u001b[0m \u001b[38;5;66;03m# Asegurarse de que el índice 'SalesDate' sea de tipo datetime\u001b[39;00m\n\u001b[1;32m----> 2\u001b[0m df_grouped\u001b[38;5;241m.\u001b[39mindex \u001b[38;5;241m=\u001b[39m \u001b[43mpd\u001b[49m\u001b[38;5;241;43m.\u001b[39;49m\u001b[43mto_datetime\u001b[49m\u001b[43m(\u001b[49m\u001b[43mdf_grouped\u001b[49m\u001b[38;5;241;43m.\u001b[39;49m\u001b[43mindex\u001b[49m\u001b[43m)\u001b[49m\n\u001b[0;32m      4\u001b[0m \u001b[38;5;66;03m# Restablecer el índice para que 'SalesDate' sea una columna normal\u001b[39;00m\n\u001b[0;32m      5\u001b[0m df_reset \u001b[38;5;241m=\u001b[39m df_grouped\u001b[38;5;241m.\u001b[39mreset_index()\n",
      "File \u001b[1;32mc:\\Users\\usuario\\AppData\\Local\\Programs\\Python\\Python312\\Lib\\site-packages\\pandas\\core\\tools\\datetimes.py:1076\u001b[0m, in \u001b[0;36mto_datetime\u001b[1;34m(arg, errors, dayfirst, yearfirst, utc, format, exact, unit, infer_datetime_format, origin, cache)\u001b[0m\n\u001b[0;32m   1074\u001b[0m         result \u001b[38;5;241m=\u001b[39m _convert_and_box_cache(arg, cache_array, name\u001b[38;5;241m=\u001b[39marg\u001b[38;5;241m.\u001b[39mname)\n\u001b[0;32m   1075\u001b[0m     \u001b[38;5;28;01melse\u001b[39;00m:\n\u001b[1;32m-> 1076\u001b[0m         result \u001b[38;5;241m=\u001b[39m \u001b[43mconvert_listlike\u001b[49m\u001b[43m(\u001b[49m\u001b[43marg\u001b[49m\u001b[43m,\u001b[49m\u001b[43m \u001b[49m\u001b[38;5;28;43mformat\u001b[39;49m\u001b[43m,\u001b[49m\u001b[43m \u001b[49m\u001b[43mname\u001b[49m\u001b[38;5;241;43m=\u001b[39;49m\u001b[43marg\u001b[49m\u001b[38;5;241;43m.\u001b[39;49m\u001b[43mname\u001b[49m\u001b[43m)\u001b[49m\n\u001b[0;32m   1077\u001b[0m \u001b[38;5;28;01melif\u001b[39;00m is_list_like(arg):\n\u001b[0;32m   1078\u001b[0m     \u001b[38;5;28;01mtry\u001b[39;00m:\n\u001b[0;32m   1079\u001b[0m         \u001b[38;5;66;03m# error: Argument 1 to \"_maybe_cache\" has incompatible type\u001b[39;00m\n\u001b[0;32m   1080\u001b[0m         \u001b[38;5;66;03m# \"Union[float, str, datetime, List[Any], Tuple[Any, ...], ExtensionArray,\u001b[39;00m\n\u001b[0;32m   1081\u001b[0m         \u001b[38;5;66;03m# ndarray[Any, Any], Series]\"; expected \"Union[List[Any], Tuple[Any, ...],\u001b[39;00m\n\u001b[0;32m   1082\u001b[0m         \u001b[38;5;66;03m# Union[Union[ExtensionArray, ndarray[Any, Any]], Index, Series], Series]\"\u001b[39;00m\n",
      "File \u001b[1;32mc:\\Users\\usuario\\AppData\\Local\\Programs\\Python\\Python312\\Lib\\site-packages\\pandas\\core\\tools\\datetimes.py:416\u001b[0m, in \u001b[0;36m_convert_listlike_datetimes\u001b[1;34m(arg, format, name, utc, unit, errors, dayfirst, yearfirst, exact)\u001b[0m\n\u001b[0;32m    413\u001b[0m \u001b[38;5;66;03m# warn if passing timedelta64, raise for PeriodDtype\u001b[39;00m\n\u001b[0;32m    414\u001b[0m \u001b[38;5;66;03m# NB: this must come after unit transformation\u001b[39;00m\n\u001b[0;32m    415\u001b[0m \u001b[38;5;28;01mtry\u001b[39;00m:\n\u001b[1;32m--> 416\u001b[0m     arg, _ \u001b[38;5;241m=\u001b[39m \u001b[43mmaybe_convert_dtype\u001b[49m\u001b[43m(\u001b[49m\u001b[43marg\u001b[49m\u001b[43m,\u001b[49m\u001b[43m \u001b[49m\u001b[43mcopy\u001b[49m\u001b[38;5;241;43m=\u001b[39;49m\u001b[38;5;28;43;01mFalse\u001b[39;49;00m\u001b[43m,\u001b[49m\u001b[43m \u001b[49m\u001b[43mtz\u001b[49m\u001b[38;5;241;43m=\u001b[39;49m\u001b[43mlibtimezones\u001b[49m\u001b[38;5;241;43m.\u001b[39;49m\u001b[43mmaybe_get_tz\u001b[49m\u001b[43m(\u001b[49m\u001b[43mtz\u001b[49m\u001b[43m)\u001b[49m\u001b[43m)\u001b[49m\n\u001b[0;32m    417\u001b[0m \u001b[38;5;28;01mexcept\u001b[39;00m \u001b[38;5;167;01mTypeError\u001b[39;00m:\n\u001b[0;32m    418\u001b[0m     \u001b[38;5;28;01mif\u001b[39;00m errors \u001b[38;5;241m==\u001b[39m \u001b[38;5;124m\"\u001b[39m\u001b[38;5;124mcoerce\u001b[39m\u001b[38;5;124m\"\u001b[39m:\n",
      "File \u001b[1;32mc:\\Users\\usuario\\AppData\\Local\\Programs\\Python\\Python312\\Lib\\site-packages\\pandas\\core\\arrays\\datetimes.py:2466\u001b[0m, in \u001b[0;36mmaybe_convert_dtype\u001b[1;34m(data, copy, tz)\u001b[0m\n\u001b[0;32m   2462\u001b[0m     \u001b[38;5;28;01mraise\u001b[39;00m \u001b[38;5;167;01mTypeError\u001b[39;00m(\u001b[38;5;124mf\u001b[39m\u001b[38;5;124m\"\u001b[39m\u001b[38;5;124mdtype \u001b[39m\u001b[38;5;132;01m{\u001b[39;00mdata\u001b[38;5;241m.\u001b[39mdtype\u001b[38;5;132;01m}\u001b[39;00m\u001b[38;5;124m cannot be converted to datetime64[ns]\u001b[39m\u001b[38;5;124m\"\u001b[39m)\n\u001b[0;32m   2463\u001b[0m \u001b[38;5;28;01melif\u001b[39;00m \u001b[38;5;28misinstance\u001b[39m(data\u001b[38;5;241m.\u001b[39mdtype, PeriodDtype):\n\u001b[0;32m   2464\u001b[0m     \u001b[38;5;66;03m# Note: without explicitly raising here, PeriodIndex\u001b[39;00m\n\u001b[0;32m   2465\u001b[0m     \u001b[38;5;66;03m#  test_setops.test_join_does_not_recur fails\u001b[39;00m\n\u001b[1;32m-> 2466\u001b[0m     \u001b[38;5;28;01mraise\u001b[39;00m \u001b[38;5;167;01mTypeError\u001b[39;00m(\n\u001b[0;32m   2467\u001b[0m         \u001b[38;5;124m\"\u001b[39m\u001b[38;5;124mPassing PeriodDtype data is invalid. Use `data.to_timestamp()` instead\u001b[39m\u001b[38;5;124m\"\u001b[39m\n\u001b[0;32m   2468\u001b[0m     )\n\u001b[0;32m   2470\u001b[0m \u001b[38;5;28;01melif\u001b[39;00m \u001b[38;5;28misinstance\u001b[39m(data\u001b[38;5;241m.\u001b[39mdtype, ExtensionDtype) \u001b[38;5;129;01mand\u001b[39;00m \u001b[38;5;129;01mnot\u001b[39;00m \u001b[38;5;28misinstance\u001b[39m(\n\u001b[0;32m   2471\u001b[0m     data\u001b[38;5;241m.\u001b[39mdtype, DatetimeTZDtype\n\u001b[0;32m   2472\u001b[0m ):\n\u001b[0;32m   2473\u001b[0m     \u001b[38;5;66;03m# TODO: We have no tests for these\u001b[39;00m\n\u001b[0;32m   2474\u001b[0m     data \u001b[38;5;241m=\u001b[39m np\u001b[38;5;241m.\u001b[39marray(data, dtype\u001b[38;5;241m=\u001b[39mnp\u001b[38;5;241m.\u001b[39mobject_)\n",
      "\u001b[1;31mTypeError\u001b[0m: Passing PeriodDtype data is invalid. Use `data.to_timestamp()` instead"
     ]
    }
   ],
   "source": [
    "# Asegurarse de que el índice 'SalesDate' sea de tipo datetime\n",
    "df_grouped.index = pd.to_datetime(df_grouped.index)\n",
    "\n",
    "# Restablecer el índice para que 'SalesDate' sea una columna normal\n",
    "df_reset = df_grouped.reset_index()\n",
    "\n",
    "# Visualizar la demanda a lo largo del tiempo\n",
    "plt.figure(figsize=(10, 6))\n",
    "sns.lineplot(data=df_reset, x='SalesDate', y='SalesQuantity')  # Ahora 'SalesDate' es una columna normal\n",
    "plt.title('Demanda a lo largo del tiempo')\n",
    "plt.xticks(rotation=45)\n",
    "plt.xlabel('Fecha de Ventas')\n",
    "plt.ylabel('Cantidad Vendida')\n",
    "plt.show()\n"
   ]
  },
  {
   "cell_type": "code",
   "execution_count": 21,
   "metadata": {},
   "outputs": [
    {
     "data": {
      "image/png": "[encoded data removed]",
      "text/plain": [
       "<Figure size 1000x600 with 1 Axes>"
      ]
     },
     "metadata": {},
     "output_type": "display_data"
    }
   ],
   "source": [
    "# Asegurarse de que el índice 'SalesDate' sea de tipo timestamp\n",
    "df_grouped.index = df_grouped.index.to_timestamp()\n",
    "\n",
    "# Restablecer el índice para que 'SalesDate' sea una columna normal\n",
    "df_reset = df_grouped.reset_index()\n",
    "\n",
    "# Visualizar la demanda a lo largo del tiempo\n",
    "plt.figure(figsize=(10, 6))\n",
    "sns.lineplot(data=df_reset, x='SalesDate', y='SalesQuantity')  # Ahora 'SalesDate' es una columna normal\n",
    "plt.title('Demanda a lo largo del tiempo')\n",
    "plt.xticks(rotation=45)\n",
    "plt.xlabel('Fecha de Ventas')\n",
    "plt.ylabel('Cantidad Vendida')\n",
    "plt.show()\n"
   ]
  }
 ],
 "metadata": {
  "kernelspec": {
   "display_name": "Python 3",
   "language": "python",
   "name": "python3"
  },
  "language_info": {
   "codemirror_mode": {
    "name": "ipython",
    "version": 3
   },
   "file_extension": ".py",
   "mimetype": "text/x-python",
   "name": "python",
   "nbconvert_exporter": "python",
   "pygments_lexer": "ipython3",
   "version": "3.12.6"
  }
 },
 "nbformat": 4,
 "nbformat_minor": 2
}
